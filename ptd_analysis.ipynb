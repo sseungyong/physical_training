{
 "cells": [
  {
   "cell_type": "code",
   "execution_count": 138,
   "metadata": {},
   "outputs": [],
   "source": [
    "import numpy as np\n",
    "import pandas as pd\n",
    "import os"
   ]
  },
  {
   "cell_type": "code",
   "execution_count": 139,
   "metadata": {},
   "outputs": [],
   "source": [
    "input_path = './player_data/'\n",
    "output_path = './result_data/'"
   ]
  },
  {
   "cell_type": "code",
   "execution_count": 140,
   "metadata": {},
   "outputs": [],
   "source": [
    "file_list = os.listdir(input_path)"
   ]
  },
  {
   "cell_type": "code",
   "execution_count": 141,
   "metadata": {},
   "outputs": [
    {
     "data": {
      "text/plain": [
       "['KFA_MU-15_20190913_TR_AM.csv',\n",
       " 'KFA_MU-15_20190914_TR_PM.csv',\n",
       " 'WA_Match_20191017.xlsx',\n",
       " 'WA_Match_20191021.xlsx',\n",
       " 'WA_TR_20191015.xlsx',\n",
       " 'WA_TR_20191016.xlsx',\n",
       " 'WA_TR_20191018.xlsx',\n",
       " 'WA_TR_20191019.xlsx',\n",
       " 'WA_TR_20191020.xlsx',\n",
       " 'WA_TR_20191022.xlsx',\n",
       " 'WA_TR_20191023.xlsx',\n",
       " 'WA_TR_20191024.xlsx',\n",
       " 'WA_TR_20191025.xlsx',\n",
       " 'WA_weight_data.csv']"
      ]
     },
     "execution_count": 141,
     "metadata": {},
     "output_type": "execute_result"
    }
   ],
   "source": [
    "file_list.sort()"
   ]
  },
  {
   "cell_type": "code",
   "execution_count": 143,
   "metadata": {},
   "outputs": [
    {
     "name": "stdout",
     "output_type": "stream",
     "text": [
      "Today's training dataset :  ./player_data/WA_TR_20191015.xlsx\n",
      "We have result file. Add data on result file\n",
      "We train for 10 day.\n",
      "=============================================\n",
      "Today's training dataset :  ./player_data/WA_TR_20191016.xlsx\n",
      "We have result file. Add data on result file\n",
      "We train for 11 day.\n",
      "=============================================\n",
      "Today's training dataset :  ./player_data/WA_TR_20191018.xlsx\n",
      "We have result file. Add data on result file\n",
      "We train for 12 day.\n",
      "=============================================\n",
      "Today's training dataset :  ./player_data/WA_TR_20191019.xlsx\n",
      "We have result file. Add data on result file\n",
      "We train for 13 day.\n",
      "=============================================\n",
      "Today's training dataset :  ./player_data/WA_TR_20191020.xlsx\n",
      "We have result file. Add data on result file\n",
      "We train for 14 day.\n",
      "=============================================\n",
      "Today's training dataset :  ./player_data/WA_TR_20191022.xlsx\n",
      "We have result file. Add data on result file\n",
      "We train for 15 day.\n",
      "=============================================\n",
      "Today's training dataset :  ./player_data/WA_TR_20191023.xlsx\n",
      "We have result file. Add data on result file\n",
      "We train for 16 day.\n",
      "=============================================\n",
      "Today's training dataset :  ./player_data/WA_TR_20191024.xlsx\n",
      "We have result file. Add data on result file\n",
      "We train for 17 day.\n",
      "=============================================\n",
      "Today's training dataset :  ./player_data/WA_TR_20191025.xlsx\n",
      "We have result file. Add data on result file\n",
      "We train for 18 day.\n",
      "=============================================\n"
     ]
    }
   ],
   "source": [
    "for file in file_list:\n",
    "    file_path = input_path+file\n",
    "    print(\"Today's training dataset : \", file_path)\n",
    "    df = pd.read_excel(file_path)\n",
    "    df['Load'] = df['RPE']*df['TR_time_(min)']\n",
    "    df['Mono'] = df['RPE']*df['Total_dist_(m)']\n",
    "    info_df = df.loc[0:0, 'Date':'Type']\n",
    "    mean_df = df.loc[:,'Height':].mean().to_frame().T\n",
    "    mean_df = info_df.join(mean_df)\n",
    "    \n",
    "    if os.path.isfile('./result_data/result_by_player.xlsx'):\n",
    "        writer = pd.ExcelWriter('./result_data/result_by_player.xlsx')\n",
    "        team_df = pd.read_excel('./result_data/result_by_player.xlsx', sheet_name='Team sheet')\n",
    "        \n",
    "        temp_df = team_df.iloc[:,:-1]\n",
    "        temp_df = temp_df.append(mean_df, ignore_index=True)\n",
    "        \n",
    "        t_day = len(temp_df)\n",
    "        \n",
    "        if t_day <= 7:\n",
    "            mean_df['EWAM'] = temp_df['HSR_(m)'].mean()\n",
    "        else:\n",
    "            n = t_day - 7\n",
    "            mean_df['EWAM'] = temp_df.loc[n:,'HSR_(m)'].mean()\n",
    "        \n",
    "        team_df = team_df.append(mean_df, ignore_index=True)\n",
    "        team_df.to_excel(writer, sheet_name='Team sheet', columns=team_df.columns, index=False, float_format='%.2f')\n",
    "\n",
    "        \n",
    "        for i in range(len(df)):\n",
    "            player = df.iloc[i].Name\n",
    "            position = df.iloc[i].Position\n",
    "            sheet_name = player+'_'+position\n",
    "            player_data = df.iloc[i:i+1,3:]\n",
    "            player_df = pd.read_excel('./result_data/result_by_player.xlsx', sheet_name=sheet_name)\n",
    "            \n",
    "            temp_df = player_df.iloc[:,:-1]\n",
    "            temp_df = temp_df.append(player_data, ignore_index=True)\n",
    "            \n",
    "            if len(temp_df) <= 7:\n",
    "                player_data['EWAM'] = temp_df['HSR_(m)'].mean()\n",
    "            else:\n",
    "                n = len(temp_df) - 7\n",
    "                player_data['EWAM'] = temp_df.loc[n:,'HSR_(m)'].mean()\n",
    "            \n",
    "            player_df = player_df.append(player_data, ignore_index=True)\n",
    "            player_df.to_excel(writer, sheet_name=sheet_name, index=False , float_format='%.2f')\n",
    "\n",
    "        writer.save()\n",
    "        \n",
    "        print(\"We have result file. Add data on result file\")\n",
    "        print(\"We train for {} day.\".format(t_day))\n",
    "        print(\"=============================================\")\n",
    "\n",
    "    else:\n",
    "        writer = pd.ExcelWriter('./result_data/result_by_player.xlsx')\n",
    "        mean_df['EWAM'] = mean_df['HSR_(m)']\n",
    "        mean_df.to_excel(writer, sheet_name='Team sheet', columns=mean_df.columns, index=False, float_format='%.2f')\n",
    "\n",
    "        for i in range(len(df)):\n",
    "            player = df.iloc[i].Name\n",
    "            position = df.iloc[i].Position\n",
    "            sheet_name = player+'_'+position\n",
    "            player_data = df.iloc[i:i+1,3:]\n",
    "            player_data['EWAM'] = player_data['HSR_(m)']\n",
    "            player_data.to_excel(writer, sheet_name=sheet_name, columns=player_data.columns, index=False, float_format='%.2f')\n",
    "\n",
    "        writer.save()\n",
    "        \n",
    "        print(\"Result file doesn't exist. Make result file\")\n",
    "        print(\"We train for 1 day.\")\n",
    "        print(\"=============================================\")"
   ]
  },
  {
   "cell_type": "code",
   "execution_count": null,
   "metadata": {},
   "outputs": [],
   "source": []
  }
 ],
 "metadata": {
  "kernelspec": {
   "display_name": "Python 3",
   "language": "python",
   "name": "python3"
  },
  "language_info": {
   "codemirror_mode": {
    "name": "ipython",
    "version": 3
   },
   "file_extension": ".py",
   "mimetype": "text/x-python",
   "name": "python",
   "nbconvert_exporter": "python",
   "pygments_lexer": "ipython3",
   "version": "3.7.3"
  }
 },
 "nbformat": 4,
 "nbformat_minor": 4
}
