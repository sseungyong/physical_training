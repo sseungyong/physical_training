{
 "cells": [
  {
   "cell_type": "code",
   "execution_count": 1,
   "metadata": {},
   "outputs": [],
   "source": [
    "import numpy as np\n",
    "import pandas as pd"
   ]
  },
  {
   "cell_type": "code",
   "execution_count": 2,
   "metadata": {},
   "outputs": [],
   "source": [
    "writer = pd.ExcelWriter('./test.xlsx')"
   ]
  },
  {
   "cell_type": "code",
   "execution_count": 3,
   "metadata": {},
   "outputs": [],
   "source": [
    "df = pd.DataFrame()\n",
    "df.to_excel(writer, sheet_name='sheet')"
   ]
  },
  {
   "cell_type": "code",
   "execution_count": null,
   "metadata": {},
   "outputs": [],
   "source": []
  },
  {
   "cell_type": "code",
   "execution_count": 20,
   "metadata": {},
   "outputs": [],
   "source": [
    "player_list = pd.read_excel(''./init_data/WA_player_list.xlsx', index_col=[0])"
   ]
  },
  {
   "cell_type": "code",
   "execution_count": 21,
   "metadata": {},
   "outputs": [
    {
     "data": {
      "text/plain": [
       "array([['Kim min jung', 'GK'],\n",
       "       ['Kang ga ae', 'GK'],\n",
       "       ['Min yu kyeong', 'GK'],\n",
       "       ['Lim seon joo', 'CB'],\n",
       "       ['Hong hye ji', 'CB'],\n",
       "       ['kim hye yeong', 'CB'],\n",
       "       ['Eo hee jin', 'CB'],\n",
       "       ['Kim hye ri', 'SB'],\n",
       "       ['Jang sel gi', 'SB'],\n",
       "       ['Ha eun hye', 'SB'],\n",
       "       ['Lee hyo kyeong', 'SB'],\n",
       "       ['Kim jin hui', 'MF'],\n",
       "       ['Cho so hyun', 'MF'],\n",
       "       ['Lee yong ju', 'MF'],\n",
       "       ['Lee sea eun', 'MF'],\n",
       "       ['Park ye eun', 'MF'],\n",
       "       ['Lee so dam', 'MF'],\n",
       "       ['Jang chang', 'MF'],\n",
       "       ['Moon mi ra', 'WF'],\n",
       "       ['Son hwa yeon', 'WF'],\n",
       "       ['Kim so eun', 'WF'],\n",
       "       ['Kang chae rim', 'WF'],\n",
       "       ['Ji so yun', 'FW']], dtype=object)"
      ]
     },
     "execution_count": 21,
     "metadata": {},
     "output_type": "execute_result"
    }
   ],
   "source": [
    "player_list[['Name', 'Position']].values"
   ]
  },
  {
   "cell_type": "code",
   "execution_count": 35,
   "metadata": {},
   "outputs": [],
   "source": [
    "writer = pd.ExcelWriter('./result_data/result_by_player.xlsx')\n",
    "\n",
    "for player, position in player_list[['Name', 'Position']].values:\n",
    "    df = pd.DataFrame()\n",
    "    sheet_name = player+'_'+position\n",
    "    df.to_excel(writer, sheet_name)\n",
    "\n",
    "writer.save()"
   ]
  },
  {
   "cell_type": "code",
   "execution_count": null,
   "metadata": {},
   "outputs": [],
   "source": []
  }
 ],
 "metadata": {
  "kernelspec": {
   "display_name": "Python 3",
   "language": "python",
   "name": "python3"
  },
  "language_info": {
   "codemirror_mode": {
    "name": "ipython",
    "version": 3
   },
   "file_extension": ".py",
   "mimetype": "text/x-python",
   "name": "python",
   "nbconvert_exporter": "python",
   "pygments_lexer": "ipython3",
   "version": "3.7.3"
  }
 },
 "nbformat": 4,
 "nbformat_minor": 4
}
